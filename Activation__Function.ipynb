{
  "nbformat": 4,
  "nbformat_minor": 0,
  "metadata": {
    "colab": {
      "provenance": [],
      "authorship_tag": "ABX9TyPZJh9Fzw5jp8neytvBWh0L",
      "include_colab_link": true
    },
    "kernelspec": {
      "name": "python3",
      "display_name": "Python 3"
    },
    "language_info": {
      "name": "python"
    }
  },
  "cells": [
    {
      "cell_type": "markdown",
      "metadata": {
        "id": "view-in-github",
        "colab_type": "text"
      },
      "source": [
        "<a href=\"https://colab.research.google.com/github/Radit1234/Activation-Function_-A-Detailed-Review/blob/main/Activation__Function.ipynb\" target=\"_parent\"><img src=\"https://colab.research.google.com/assets/colab-badge.svg\" alt=\"Open In Colab\"/></a>"
      ]
    },
    {
      "cell_type": "code",
      "execution_count": 1,
      "metadata": {
        "id": "kpakGDArxU7K"
      },
      "outputs": [],
      "source": [
        "import numpy as np\n",
        "import matplotlib.pyplot as plt"
      ]
    },
    {
      "cell_type": "code",
      "source": [
        "# Define activation functions\n",
        "def sigmoid(x):\n",
        "return 1 / (1 + np.exp(-x))\n",
        "def tanh(x):\n",
        "return np.tanh(x)\n",
        "def relu(x):\n",
        "return np.maximum(0, x)\n",
        "def leaky_relu(x, alpha=0.01):\n",
        "return np.where(x > 0, x, alpha * x)\n",
        "def elu(x, alpha=1.0):\n",
        "return np.where(x > 0, x, alpha * (np.exp(x) - 1))\n",
        "def selu(x, alpha=1.6732632423543772848170429916717,\n",
        "scale=1.0507009873554804934193349852946):\n",
        "return scale * np.where(x > 0, x, alpha * (np.exp(x) - 1))\n",
        "def softmax(x):\n",
        "exp_vals = np.exp(x - np.max(x, axis=-1, keepdims=True))\n",
        "return exp_vals / np.sum(exp_vals, axis=-1, keepdims=True)\n",
        "def swish(x):\n",
        "return x * sigmoid(x)\n",
        "# Create x values\n",
        "x = np.linspace(-3, 3, 100)\n",
        "# Calculate y values for each activation function\n",
        "y_sigmoid = sigmoid(x)\n",
        "y_tanh = tanh(x)\n",
        "y_relu = relu(x)\n",
        "y_leaky_relu = leaky_relu(x)\n",
        "y_elu = elu(x)\n",
        "y_selu = selu(x)\n",
        "y_softmax = softmax(x)\n",
        "y_swish = swish(x)\n",
        "# Create subplots for each activation function\n",
        "fig, axs = plt.subplots(4, 2, figsize=(12, 16))\n",
        "axs[0, 0].plot(x, y_sigmoid)\n",
        "axs[0, 0].set_title('Sigmoid')\n",
        "axs[0, 0].grid(True)\n",
        "axs[0, 1].plot(x, y_tanh)\n",
        "axs[0, 1].set_title('Tanh')\n",
        "axs[0, 1].grid(True)\n",
        "axs[1, 0].plot(x, y_relu)"
      ],
      "metadata": {
        "id": "ySgRQoBBqMEq"
      },
      "execution_count": null,
      "outputs": []
    },
    {
      "cell_type": "code",
      "source": [
        "axs[1, 0].set_title('ReLU')\n",
        "axs[1, 0].grid(True)\n",
        "axs[1, 1].plot(x, y_leaky_relu)\n",
        "axs[1, 1].set_title('Leaky ReLU')\n",
        "axs[1, 1].grid(True)\n",
        "axs[2, 0].plot(x, y_elu)\n",
        "axs[2, 0].set_title('ELU')\n",
        "axs[2, 0].grid(True)\n",
        "axs[2, 1].plot(x, y_selu)\n",
        "axs[2, 1].set_title('SELU')\n",
        "axs[2, 1].grid(True)\n",
        "axs[3, 0].plot(x, y_softmax)\n",
        "axs[3, 0].set_title('Softmax')\n",
        "axs[3, 0].grid(True)\n",
        "axs[3, 1].plot(x, y_swish)\n",
        "axs[3, 1].set_title('Swish')\n",
        "axs[3, 1].grid(True)\n",
        "# Adjust layout\n",
        "plt.tight_layout()\n",
        "plt.show()"
      ],
      "metadata": {
        "id": "6yjBVNTZqMCS"
      },
      "execution_count": null,
      "outputs": []
    },
    {
      "cell_type": "code",
      "source": [],
      "metadata": {
        "id": "XBiThDWEqL_h"
      },
      "execution_count": null,
      "outputs": []
    },
    {
      "cell_type": "code",
      "source": [],
      "metadata": {
        "id": "BwFuiBTwqL8y"
      },
      "execution_count": null,
      "outputs": []
    },
    {
      "cell_type": "code",
      "source": [],
      "metadata": {
        "id": "BtvvIA2rqL5M"
      },
      "execution_count": null,
      "outputs": []
    },
    {
      "cell_type": "code",
      "source": [],
      "metadata": {
        "id": "d8PpP96ZqLzr"
      },
      "execution_count": null,
      "outputs": []
    }
  ]
}